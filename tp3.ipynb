{
 "cells": [
  {
   "cell_type": "code",
   "execution_count": 59,
   "id": "a631515f",
   "metadata": {},
   "outputs": [],
   "source": [
    "import pandas as pd;\n",
    "from xgboost import XGBClassifier;\n",
    "from sklearn import metrics, model_selection;\n",
    "from sklearn.ensemble import RandomForestClassifier;\n"
   ]
  },
  {
   "cell_type": "code",
   "execution_count": 60,
   "id": "859409be",
   "metadata": {},
   "outputs": [],
   "source": [
    "def avaliar_modelo(modelo, X_test, y_test):\n",
    "    y_pred = model_selection.cross_val_predict(modelo, X_test, y_test, cv=model_selection.StratifiedKFold(n_splits=5, shuffle=True));\n",
    "\n",
    "    accuracy = metrics.accuracy_score(y_test, y_pred);\n",
    "    precision = metrics.precision_score(y_test, y_pred, average=\"macro\", zero_division=0);\n",
    "    recall = metrics.recall_score(y_test, y_pred, average=\"macro\");\n",
    "    f1 = metrics.f1_score(y_test, y_pred, average=\"macro\");\n",
    "    confusion_matrix = metrics.confusion_matrix(y_test, y_pred);\n",
    "\n",
    "    print(f\"Accuracy: {accuracy*100:.2f}%\");\n",
    "    print(f\"Precision: {precision:.3f}\");\n",
    "    print(f\"Recall: {recall:.3f}\");\n",
    "    print(f\"F1 Score: {f1:.3f}\");\n",
    "    print(f\"Confusion Matrix:\\n{confusion_matrix}\");"
   ]
  },
  {
   "cell_type": "code",
   "execution_count": 61,
   "id": "156f5d60",
   "metadata": {},
   "outputs": [],
   "source": [
    "df = pd.read_csv('https://raw.githubusercontent.com/cassiusf/datasets/main/customers_data.csv');\n",
    "df = df.dropna();\n",
    "\n",
    "target = df['Channel'].map({2: 1, 1: 0});\n",
    "data = df.drop(columns=['Channel']);\n",
    "\n",
    "X_train, X_test, y_train, y_test = model_selection.train_test_split(data, target, test_size=0.25);"
   ]
  },
  {
   "cell_type": "code",
   "execution_count": 62,
   "id": "2948310e",
   "metadata": {},
   "outputs": [
    {
     "name": "stdout",
     "output_type": "stream",
     "text": [
      "Accuracy: 93.64%\n",
      "Precision: 0.927\n",
      "Recall: 0.920\n",
      "F1 Score: 0.924\n",
      "Confusion Matrix:\n",
      "[[74  3]\n",
      " [ 4 29]]\n"
     ]
    }
   ],
   "source": [
    "random_forest = RandomForestClassifier();\n",
    "random_forest.fit(X_train, y_train);\n",
    "avaliar_modelo(random_forest, X_test, y_test);"
   ]
  },
  {
   "cell_type": "code",
   "execution_count": 63,
   "id": "c9171678",
   "metadata": {},
   "outputs": [
    {
     "name": "stdout",
     "output_type": "stream",
     "text": [
      "Accuracy: 90.91%\n",
      "Precision: 0.892\n",
      "Recall: 0.892\n",
      "F1 Score: 0.892\n",
      "Confusion Matrix:\n",
      "[[72  5]\n",
      " [ 5 28]]\n"
     ]
    }
   ],
   "source": [
    "xgboost = XGBClassifier();\n",
    "xgboost.fit(X_train, y_train);\n",
    "avaliar_modelo(xgboost, X_test, y_test);"
   ]
  },
  {
   "cell_type": "markdown",
   "id": "8971beb2",
   "metadata": {},
   "source": [
    "### Questão 3: Qual modelo você utilizaria, a partir dos resultados da execução dos dois modelos? Justifique sua resposta.\n",
    "\n",
    "A partir dos resultados obtidos, observa-se que, embora ambos os modelos tenham apresentado bons desempenhos, o Random Forest superou o XGBoost em todas as métricas avaliadas. Apesar da diferença não ser muito grande, a matriz de confusão mostra que o Random Forest cometeu menos erros de classificação, reforçando sua maior confiabilidade. Tendo esses dados em mente, o Random Forest seria escolhido como modelo final, por manter um desempenho superior e mais consistente entre as métricas, garantindo maior capacidade de generalização nesse problema específico."
   ]
  }
 ],
 "metadata": {
  "kernelspec": {
   "display_name": "Python (infnet-ml)",
   "language": "python",
   "name": "infnet-ml"
  },
  "language_info": {
   "codemirror_mode": {
    "name": "ipython",
    "version": 3
   },
   "file_extension": ".py",
   "mimetype": "text/x-python",
   "name": "python",
   "nbconvert_exporter": "python",
   "pygments_lexer": "ipython3",
   "version": "3.13.0"
  }
 },
 "nbformat": 4,
 "nbformat_minor": 5
}
